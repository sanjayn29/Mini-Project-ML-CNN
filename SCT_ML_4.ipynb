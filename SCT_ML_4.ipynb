{
 "cells": [
  {
   "cell_type": "code",
   "execution_count": null,
   "id": "362b7ffe-b819-4411-a1d3-074ff8e72745",
   "metadata": {},
   "outputs": [],
   "source": [
    "import os\n",
    "import numpy as np\n",
    "import cv2\n",
    "import matplotlib.pyplot as plt\n",
    "from sklearn.model_selection import train_test_split\n",
    "from tensorflow.keras.utils import to_categorical\n",
    "from tensorflow.keras.models import Sequential\n",
    "from tensorflow.keras.layers import Conv2D, MaxPooling2D, Flatten, Dense, Dropout\n",
    "from tensorflow.keras.preprocessing.image import ImageDataGenerator"
   ]
  },
  {
   "cell_type": "code",
   "execution_count": null,
   "id": "722db902-d608-45fa-99f4-e0001426d077",
   "metadata": {},
   "outputs": [],
   "source": [
    "def load_data(dataset_path, img_size):\n",
    "    images, labels = [], []\n",
    "    for label, gesture in enumerate(os.listdir(dataset_path)):\n",
    "        gesture_path = os.path.join(dataset_path, gesture)\n",
    "        for img_file in os.listdir(gesture_path):\n",
    "            img_path = os.path.join(gesture_path, img_file)\n",
    "            img = cv2.imread(img_path, cv2.IMREAD_GRAYSCALE)\n",
    "            img = cv2.resize(img, (img_size, img_size))\n",
    "            images.append(img)\n",
    "            labels.append(label)\n",
    "    images = np.array(images) / 255.0\n",
    "    labels = np.array(labels)\n",
    "    return images, labels\n",
    "\n",
    "dataset_path = r\"C:\\Users\\sanja\\Downloads\\archive\\leapGestRecog\"\n",
    "img_size = 64\n",
    "images, labels = load_data(dataset_path, img_size)"
   ]
  },
  {
   "cell_type": "code",
   "execution_count": null,
   "id": "9410bb85-9310-4b1a-aaf2-c676a33aadc6",
   "metadata": {},
   "outputs": [],
   "source": [
    "images = images.reshape(-1, img_size, img_size, 1)  \n",
    "labels = to_categorical(labels) \n",
    "\n",
    "X_train, X_test, y_train, y_test = train_test_split(images, labels, test_size=0.2, random_state=42)\n",
    "\n",
    "\n",
    "datagen = ImageDataGenerator(\n",
    "    rotation_range=15,\n",
    "    width_shift_range=0.2,\n",
    "    height_shift_range=0.2,\n",
    "    shear_range=0.2,\n",
    "    zoom_range=0.2,\n",
    "    horizontal_flip=True,\n",
    ")\n",
    "datagen.fit(X_train)\n",
    "\n",
    "model = Sequential([\n",
    "    Conv2D(32, (3, 3), activation='relu', input_shape=(img_size, img_size, 1)),\n",
    "    MaxPooling2D((2, 2)),\n",
    "    Conv2D(64, (3, 3), activation='relu'),\n",
    "    MaxPooling2D((2, 2)),\n",
    "    Flatten(),\n",
    "    Dense(128, activation='relu'),\n",
    "    Dropout(0.5),\n",
    "    Dense(labels.shape[1], activation='softmax')  # Number of classes\n",
    "])\n",
    "\n",
    "model.compile(optimizer='adam', loss='categorical_crossentropy', metrics=['accuracy'])\n",
    "\n",
    "history = model.fit(datagen.flow(X_train, y_train, batch_size=32),\n",
    "                    validation_data=(X_test, y_test),\n",
    "                    epochs=15)"
   ]
  },
  {
   "cell_type": "code",
   "execution_count": null,
   "id": "01a45601-9f00-49d1-b32a-c5d94b3698c4",
   "metadata": {},
   "outputs": [],
   "source": [
    "test_loss, test_accuracy = model.evaluate(X_test, y_test)\n",
    "print(f\"Test Accuracy: {test_accuracy * 100:.2f}%\")"
   ]
  },
  {
   "cell_type": "code",
   "execution_count": null,
   "id": "7bedf577-2fbb-4cf6-83f2-3dcc4d1f0616",
   "metadata": {},
   "outputs": [],
   "source": [
    "model.save(\"hand_gesture_model.h5\")"
   ]
  },
  {
   "cell_type": "code",
   "execution_count": null,
   "id": "0d6da1ac-1356-4faf-b492-92983ac4aeb7",
   "metadata": {},
   "outputs": [],
   "source": [
    "plt.plot(history.history['accuracy'], label='Train Accuracy')\n",
    "plt.plot(history.history['val_accuracy'], label='Validation Accuracy')\n",
    "plt.title('Model Accuracy')\n",
    "plt.xlabel('Epochs')\n",
    "plt.ylabel('Accuracy')\n",
    "plt.legend()\n",
    "plt.show()"
   ]
  }
 ],
 "metadata": {
  "kernelspec": {
   "display_name": "Python 3 (ipykernel)",
   "language": "python",
   "name": "python3"
  },
  "language_info": {
   "codemirror_mode": {
    "name": "ipython",
    "version": 3
   },
   "file_extension": ".py",
   "mimetype": "text/x-python",
   "name": "python",
   "nbconvert_exporter": "python",
   "pygments_lexer": "ipython3",
   "version": "3.13.0"
  }
 },
 "nbformat": 4,
 "nbformat_minor": 5
}
